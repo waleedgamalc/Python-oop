{
  "nbformat": 4,
  "nbformat_minor": 0,
  "metadata": {
    "colab": {
      "provenance": [],
      "collapsed_sections": [
        "awO95GO0TOY2",
        "18KN9-_HV8Em"
      ],
      "authorship_tag": "ABX9TyMe2i6HTdamK92/oF9zgvBB",
      "include_colab_link": true
    },
    "kernelspec": {
      "name": "python3",
      "display_name": "Python 3"
    },
    "language_info": {
      "name": "python"
    }
  },
  "cells": [
    {
      "cell_type": "markdown",
      "metadata": {
        "id": "view-in-github",
        "colab_type": "text"
      },
      "source": [
        "<a href=\"https://colab.research.google.com/github/waleedgamalc/Python-oop/blob/main/Day_05.ipynb\" target=\"_parent\"><img src=\"https://colab.research.google.com/assets/colab-badge.svg\" alt=\"Open In Colab\"/></a>"
      ]
    },
    {
      "cell_type": "markdown",
      "source": [
        "# **Assignment No 1**"
      ],
      "metadata": {
        "id": "awO95GO0TOY2"
      }
    },
    {
      "cell_type": "code",
      "execution_count": 2,
      "metadata": {
        "id": "1CBSFyEhTAt7"
      },
      "outputs": [],
      "source": [
        "class VacationPackage():\n",
        "    def __init__(self, destination, price):\n",
        "        self.destination = destination\n",
        "        self.price = price\n",
        "    def display_details(self):\n",
        "        print(f\"Destination: {self.destination}\")\n",
        "        print(f\"Price: {self.price}\")"
      ]
    },
    {
      "cell_type": "code",
      "source": [
        "class AdventurePackage(VacationPackage):\n",
        "    def __init__(self, destination, price, sea_activities):\n",
        "        super().__init__(destination, price)\n",
        "        self.sea_activities = sea_activities\n",
        "\n",
        "    def display_details(self):\n",
        "        super().display_details()\n",
        "        print(f\"Activities: {self.sea_activities}\")"
      ],
      "metadata": {
        "id": "OzuRUZAXTYdC"
      },
      "execution_count": 3,
      "outputs": []
    },
    {
      "cell_type": "code",
      "source": [
        "class RelaxationPackage(VacationPackage):\n",
        "    def __init__(self, destination, price, spa_services):\n",
        "        super().__init__(destination, price)\n",
        "        self.spa_services = spa_services\n",
        "\n",
        "    def display_details(self):\n",
        "        super().display_details()\n",
        "        print(f\"Spa Services: {self.spa_services}\")"
      ],
      "metadata": {
        "id": "F0Zl-dyFTMtF"
      },
      "execution_count": 4,
      "outputs": []
    },
    {
      "cell_type": "code",
      "source": [
        "# Main Program\n",
        "\n",
        "adventure = AdventurePackage(\"Turkey\" , 2500,[\"Hiking\",\"Rafting\"])\n",
        "relaxation = RelaxationPackage(\"Hurghada\",3000,[\"massage\", \"yoga\"])\n",
        "\n",
        "adventure.display_details()\n",
        "print(\"----\")\n",
        "relaxation.display_details()"
      ],
      "metadata": {
        "colab": {
          "base_uri": "https://localhost:8080/"
        },
        "id": "grVdkVMPU8so",
        "outputId": "8696c062-f1aa-4b21-a4da-a91fe05b6861"
      },
      "execution_count": 5,
      "outputs": [
        {
          "output_type": "stream",
          "name": "stdout",
          "text": [
            "Destination: Turkey\n",
            "Price: 2500\n",
            "Difficulty Level: ['Hiking', 'Rafting']\n",
            "----\n",
            "Destination: Hurghada\n",
            "Price: 3000\n",
            "Duration: ['massage', 'yoga']\n"
          ]
        }
      ]
    },
    {
      "cell_type": "markdown",
      "source": [
        "# **Assingment No 2**\n"
      ],
      "metadata": {
        "id": "18KN9-_HV8Em"
      }
    },
    {
      "cell_type": "code",
      "source": [
        "from abc import ABC, abstractmethod\n",
        "\n",
        "\n",
        "class TravelPackage(ABC):\n",
        "\n",
        "  @abstractmethod\n",
        "  def calculate_total_cost(self):\n",
        "\n",
        "    pass\n",
        "\n",
        "  @abstractmethod\n",
        "  def display_package_cost(self):\n",
        "\n",
        "    pass\n",
        "\n",
        "\n"
      ],
      "metadata": {
        "id": "CMOH25yYWFNC"
      },
      "execution_count": 7,
      "outputs": []
    },
    {
      "cell_type": "code",
      "source": [
        "class TourPackage(TravelPackage):\n",
        "\n",
        "  def __init__(self,days,cost_per_day):\n",
        "    self.days=days\n",
        "    self.cost_per_day=cost_per_day\n",
        "\n",
        "  def calculate_total_cost(self):\n",
        "    self.total_cost=self.days*self.cost_per_day\n",
        "    return self.total_cost\n",
        "\n",
        "  def display_package_cost(self):\n",
        "    print(f\"The total cost of the package is {self.total_cost}\")"
      ],
      "metadata": {
        "id": "Vz2zhUo5ekXU"
      },
      "execution_count": 8,
      "outputs": []
    },
    {
      "cell_type": "code",
      "source": [
        "class HotelPackage(TravelPackage):\n",
        "\n",
        "  def __init__(self,nights,cost_per_night):\n",
        "    self.nights=nights\n",
        "    self.cost_per_night=cost_per_night\n",
        "  def calculate_total_cost(self):\n",
        "    self.total_cost=self.nights*self.cost_per_night\n",
        "    return self.total_cost\n",
        "  def display_package_cost(self):\n",
        "    print(f\"The total cost of the package is {self.total_cost}\")"
      ],
      "metadata": {
        "id": "AK8lqoLafWVV"
      },
      "execution_count": 9,
      "outputs": []
    },
    {
      "cell_type": "code",
      "source": [
        "hotel_package = HotelPackage(5,200)\n",
        "tour_package = TourPackage(7,100)\n",
        "\n",
        "hotel_package.calculate_total_cost()\n",
        "tour_package.calculate_total_cost()\n",
        "\n",
        "hotel_package.display_package_cost()\n",
        "tour_package.display_package_cost()"
      ],
      "metadata": {
        "colab": {
          "base_uri": "https://localhost:8080/"
        },
        "id": "dJ_2EaxvfvRc",
        "outputId": "4cefb5ba-0017-4fe8-cddb-c44b9ebf9bed"
      },
      "execution_count": 11,
      "outputs": [
        {
          "output_type": "stream",
          "name": "stdout",
          "text": [
            "The total cost of the package is 1000\n",
            "The total cost of the package is 700\n"
          ]
        }
      ]
    },
    {
      "cell_type": "code",
      "source": [],
      "metadata": {
        "id": "r8FhsKnIgCN4"
      },
      "execution_count": null,
      "outputs": []
    },
    {
      "cell_type": "markdown",
      "source": [
        "# **Assignment No 3**"
      ],
      "metadata": {
        "id": "OwhSzNSGgVar"
      }
    },
    {
      "cell_type": "code",
      "source": [
        "class Person():\n",
        "\n",
        "  def __init__(self,name,age):\n",
        "    self.name=name\n",
        "    self.age=age"
      ],
      "metadata": {
        "id": "cTTlN-JWgawm"
      },
      "execution_count": 12,
      "outputs": []
    },
    {
      "cell_type": "code",
      "source": [
        "class Doctor(Person):\n",
        "\n",
        "  def __init__(self,name,age,specialization):\n",
        "    super().__init__(name,age)\n",
        "    self.specialization=specialization\n",
        "  def get_details(self):\n",
        "    print(f\"Name: {self.name}\")\n",
        "    print(f\"Age: {self.age}\")\n",
        "    print(f\"Specialization: {self.specialization}\")\n",
        "\n",
        ""
      ],
      "metadata": {
        "id": "SSUvkMDbgvQ3"
      },
      "execution_count": 13,
      "outputs": []
    },
    {
      "cell_type": "code",
      "source": [
        "class Patient(Person):\n",
        "  def __init__(self,name,age,medical_history):\n",
        "\n",
        "    super().__init__(name,age)\n",
        "    self.medical_history = medical_history\n",
        "\n",
        "  def get_details(self):\n",
        "    print(f\"Name: {self.name}\")\n",
        "    print(f\"Age: {self.age}\")\n",
        "    print(f\"Medical History: {self.medical_history}\")"
      ],
      "metadata": {
        "id": "fQvapXt3hIKx"
      },
      "execution_count": 14,
      "outputs": []
    },
    {
      "cell_type": "code",
      "source": [
        "patient = Patient(\"Waleed\" , 23 , \"T3ban nafsyan\")\n",
        "doctor = Doctor(\"Dr. Hesham\" , 45,\"Psychology\")\n",
        "\n",
        "patient.get_details()\n",
        "print(\"----\")\n",
        "doctor.get_details()"
      ],
      "metadata": {
        "colab": {
          "base_uri": "https://localhost:8080/"
        },
        "id": "epgYPt4xhWeX",
        "outputId": "9638e20c-2786-43e2-d8df-336751c902d3"
      },
      "execution_count": 15,
      "outputs": [
        {
          "output_type": "stream",
          "name": "stdout",
          "text": [
            "Name: Waleed\n",
            "Age: 23\n",
            "Medical History: T3ban nafsyan\n",
            "----\n",
            "Name: Dr. Hesham\n",
            "Age: 45\n",
            "Specialization: Psychology\n"
          ]
        }
      ]
    },
    {
      "cell_type": "code",
      "source": [],
      "metadata": {
        "id": "0l3weKe3h7sX"
      },
      "execution_count": null,
      "outputs": []
    }
  ]
}